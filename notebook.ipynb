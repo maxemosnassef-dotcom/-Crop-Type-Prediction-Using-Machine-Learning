{
 "cells": [
  {
   "cell_type": "markdown",
   "id": "d3d001b0-2e2f-4b58-8442-99520bad831f",
   "metadata": {},
   "source": [
    "# Sowing Success: How Machine Learning Helps Farmers Select the Best Crops\n",
    "\n",
    "![Farmer in a field](farmer_in_a_field.jpg)\n",
    "\n",
    "Measuring essential soil metrics such as nitrogen, phosphorous, potassium levels, and pH value is an important aspect of assessing soil condition. However, it can be an expensive and time-consuming process, which can cause farmers to prioritize which metrics to measure based on their budget constraints.\n",
    "\n",
    "Farmers have various options when it comes to deciding which crop to plant each season. Their primary objective is to maximize the yield of their crops, taking into account different factors. One crucial factor that affects crop growth is the condition of the soil in the field, which can be assessed by measuring basic elements such as nitrogen and potassium levels. Each crop has an ideal soil condition that ensures optimal growth and maximum yield.\n",
    "\n",
    "A farmer reached out to you as a machine learning expert for assistance in selecting the best crop for his field. They've provided you with a dataset called `soil_measures.csv`, which contains:\n",
    "\n",
    "- `\"N\"`: Nitrogen content ratio in the soil\n",
    "- `\"P\"`: Phosphorous content ratio in the soil\n",
    "- `\"K\"`: Potassium content ratio in the soil\n",
    "- `\"pH\"` value of the soil\n",
    "- `\"crop\"`: categorical values that contain various crops (target variable).\n",
    "\n",
    "Each row in this dataset represents various measures of the soil in a particular field. Based on these measurements, the crop specified in the `\"crop\"` column is the optimal choice for that field.  \n",
    "\n",
    "In this project, you will build multi-class classification models to predict the type of `\"crop\"` and identify the single most importance feature for predictive performance."
   ]
  },
  {
   "cell_type": "code",
   "execution_count": 205,
   "id": "d0eb4f16-5a99-460d-a5ba-706b7ef0bbe7",
   "metadata": {
    "executionCancelledAt": null,
    "executionTime": 19,
    "id": "bA5ajAmk7XH6",
    "lastExecutedAt": 1759939422556,
    "lastExecutedByKernel": "ce34c446-7384-4968-ab44-33b37f674e60",
    "lastScheduledRunId": null,
    "lastSuccessfullyExecutedCode": "# All required libraries are imported here for you.\nimport pandas as pd\nfrom sklearn.linear_model import LogisticRegression\nfrom sklearn.model_selection import train_test_split\nfrom sklearn import metrics\n\n# Load the dataset\ncrops = pd.read_csv(\"soil_measures.csv\")\n\n# Write your code here"
   },
   "outputs": [],
   "source": [
    "# All required libraries are imported here for you.\n",
    "import pandas as pd\n",
    "from sklearn.linear_model import LogisticRegression\n",
    "from sklearn.model_selection import train_test_split\n",
    "from sklearn import metrics\n",
    "\n",
    "# Load the dataset\n",
    "crops = pd.read_csv(\"soil_measures.csv\")\n",
    "\n",
    "# Write your code here"
   ]
  },
  {
   "cell_type": "code",
   "execution_count": 206,
   "id": "3f8e5c7b-076c-45af-84b9-effc6e8c29d6",
   "metadata": {
    "executionCancelledAt": null,
    "executionTime": 58,
    "lastExecutedAt": 1759939422614,
    "lastExecutedByKernel": "ce34c446-7384-4968-ab44-33b37f674e60",
    "lastScheduledRunId": null,
    "lastSuccessfullyExecutedCode": "crops.head()",
    "outputsMetadata": {
     "0": {
      "height": 501,
      "tableState": {
       "customFilter": {
        "const": {
         "type": "boolean",
         "valid": true,
         "value": true
        },
        "id": "331d3025-4caa-4745-aaa9-225ed62b39d4",
        "nodeType": "const"
       }
      },
      "type": "dataFrame"
     }
    }
   },
   "outputs": [
    {
     "data": {
      "application/com.datacamp.data-table.v2+json": {
       "table": {
        "data": {
         "K": [
          43,
          41,
          44,
          40,
          42
         ],
         "N": [
          90,
          85,
          60,
          74,
          78
         ],
         "P": [
          42,
          58,
          55,
          35,
          42
         ],
         "crop": [
          "rice",
          "rice",
          "rice",
          "rice",
          "rice"
         ],
         "index": [
          0,
          1,
          2,
          3,
          4
         ],
         "ph": [
          6.502985292,
          7.038096361,
          7.840207144,
          6.980400905,
          7.628472891
         ]
        },
        "schema": {
         "fields": [
          {
           "name": "index",
           "type": "integer"
          },
          {
           "name": "N",
           "type": "integer"
          },
          {
           "name": "P",
           "type": "integer"
          },
          {
           "name": "K",
           "type": "integer"
          },
          {
           "name": "ph",
           "type": "number"
          },
          {
           "name": "crop",
           "type": "string"
          }
         ],
         "pandas_version": "1.4.0",
         "primaryKey": [
          "index"
         ]
        }
       },
       "total_rows": 5,
       "truncation_type": null
      },
      "text/html": [
       "<div>\n",
       "<style scoped>\n",
       "    .dataframe tbody tr th:only-of-type {\n",
       "        vertical-align: middle;\n",
       "    }\n",
       "\n",
       "    .dataframe tbody tr th {\n",
       "        vertical-align: top;\n",
       "    }\n",
       "\n",
       "    .dataframe thead th {\n",
       "        text-align: right;\n",
       "    }\n",
       "</style>\n",
       "<table border=\"1\" class=\"dataframe\">\n",
       "  <thead>\n",
       "    <tr style=\"text-align: right;\">\n",
       "      <th></th>\n",
       "      <th>N</th>\n",
       "      <th>P</th>\n",
       "      <th>K</th>\n",
       "      <th>ph</th>\n",
       "      <th>crop</th>\n",
       "    </tr>\n",
       "  </thead>\n",
       "  <tbody>\n",
       "    <tr>\n",
       "      <th>0</th>\n",
       "      <td>90</td>\n",
       "      <td>42</td>\n",
       "      <td>43</td>\n",
       "      <td>6.502985</td>\n",
       "      <td>rice</td>\n",
       "    </tr>\n",
       "    <tr>\n",
       "      <th>1</th>\n",
       "      <td>85</td>\n",
       "      <td>58</td>\n",
       "      <td>41</td>\n",
       "      <td>7.038096</td>\n",
       "      <td>rice</td>\n",
       "    </tr>\n",
       "    <tr>\n",
       "      <th>2</th>\n",
       "      <td>60</td>\n",
       "      <td>55</td>\n",
       "      <td>44</td>\n",
       "      <td>7.840207</td>\n",
       "      <td>rice</td>\n",
       "    </tr>\n",
       "    <tr>\n",
       "      <th>3</th>\n",
       "      <td>74</td>\n",
       "      <td>35</td>\n",
       "      <td>40</td>\n",
       "      <td>6.980401</td>\n",
       "      <td>rice</td>\n",
       "    </tr>\n",
       "    <tr>\n",
       "      <th>4</th>\n",
       "      <td>78</td>\n",
       "      <td>42</td>\n",
       "      <td>42</td>\n",
       "      <td>7.628473</td>\n",
       "      <td>rice</td>\n",
       "    </tr>\n",
       "  </tbody>\n",
       "</table>\n",
       "</div>"
      ],
      "text/plain": [
       "    N   P   K        ph  crop\n",
       "0  90  42  43  6.502985  rice\n",
       "1  85  58  41  7.038096  rice\n",
       "2  60  55  44  7.840207  rice\n",
       "3  74  35  40  6.980401  rice\n",
       "4  78  42  42  7.628473  rice"
      ]
     },
     "execution_count": 206,
     "metadata": {
      "application/com.datacamp.data-table.v2+json": {
       "status": "success"
      }
     },
     "output_type": "execute_result"
    }
   ],
   "source": [
    "crops.head()"
   ]
  },
  {
   "cell_type": "code",
   "execution_count": 207,
   "id": "0bfe1795-687d-44a2-9122-f8361cb8e1fa",
   "metadata": {
    "executionCancelledAt": null,
    "executionTime": 57,
    "lastExecutedAt": 1759939422671,
    "lastExecutedByKernel": "ce34c446-7384-4968-ab44-33b37f674e60",
    "lastScheduledRunId": null,
    "lastSuccessfullyExecutedCode": "crops.info()\ncrops.describe()",
    "outputsMetadata": {
     "0": {
      "height": 269,
      "type": "stream"
     },
     "1": {
      "chartState": {
       "chartModel": {
        "cellRange": {
         "columns": [],
         "rowEndIndex": null,
         "rowEndPinned": null,
         "rowStartIndex": null,
         "rowStartPinned": null
        },
        "chartId": "id-5om56u5klva",
        "chartOptions": {
         "common": {
          "animation": {
           "enabled": true
          }
         }
        },
        "chartPalette": {
         "altDown": {
          "fill": "#ffa03a",
          "stroke": "#cc6f10"
         },
         "altNeutral": {
          "fill": "#b5b5b5",
          "stroke": "#575757"
         },
         "altUp": {
          "fill": "#5090dc",
          "stroke": "#2b5c95"
         },
         "down": {
          "fill": "#ef5452",
          "stroke": "#a82529"
         },
         "fills": [
          "#6568A0",
          "#43D7A4",
          "#4095DB",
          "#FACC5F",
          "#CAE279",
          "#F08083",
          "#5BCDF2",
          "#F099DC",
          "#965858",
          "#7DB64F",
          "#A98954"
         ],
         "neutral": {
          "fill": "#b5b5b5",
          "stroke": "#575757"
         },
         "strokes": [
          "#6568A0",
          "#43D7A4",
          "#4095DB",
          "#FACC5F",
          "#CAE279",
          "#F08083",
          "#5BCDF2",
          "#F099DC",
          "#965858",
          "#7DB64F",
          "#A98954"
         ],
         "up": {
          "fill": "#459d55",
          "stroke": "#1e652e"
         }
        },
        "chartThemeName": "datalabTheme",
        "chartType": "groupedColumn",
        "modelType": "range",
        "suppressChartRanges": false,
        "switchCategorySeries": false,
        "unlinkChart": false,
        "version": "32.2.2"
       },
       "rangeChartModel": {
        "rangeColumns": [],
        "switchCategorySeries": false
       }
      },
      "height": 501,
      "tableState": {
       "customFilter": {
        "const": {
         "type": "boolean",
         "valid": true,
         "value": true
        },
        "id": "331d3025-4caa-4745-aaa9-225ed62b39d4",
        "nodeType": "const"
       }
      },
      "type": "dataFrame"
     }
    },
    "version": "ag-charts-v1",
    "visualizeDataframe": false
   },
   "outputs": [
    {
     "name": "stdout",
     "output_type": "stream",
     "text": [
      "<class 'pandas.core.frame.DataFrame'>\n",
      "RangeIndex: 2200 entries, 0 to 2199\n",
      "Data columns (total 5 columns):\n",
      " #   Column  Non-Null Count  Dtype  \n",
      "---  ------  --------------  -----  \n",
      " 0   N       2200 non-null   int64  \n",
      " 1   P       2200 non-null   int64  \n",
      " 2   K       2200 non-null   int64  \n",
      " 3   ph      2200 non-null   float64\n",
      " 4   crop    2200 non-null   object \n",
      "dtypes: float64(1), int64(3), object(1)\n",
      "memory usage: 86.1+ KB\n"
     ]
    },
    {
     "data": {
      "application/com.datacamp.data-table.v2+json": {
       "table": {
        "data": {
         "K": [
          2200,
          48.1490909091,
          50.6479305467,
          5,
          20,
          32,
          49,
          205
         ],
         "N": [
          2200,
          50.5518181818,
          36.9173338338,
          0,
          21,
          37,
          84.25,
          140
         ],
         "P": [
          2200,
          53.3627272727,
          32.9858827386,
          5,
          28,
          51,
          68,
          145
         ],
         "index": [
          "count",
          "mean",
          "std",
          "min",
          "25%",
          "50%",
          "75%",
          "max"
         ],
         "ph": [
          2200,
          6.4694800653,
          0.773937688,
          3.504752314,
          5.9716927993,
          6.42504527,
          6.9236426213,
          9.93509073
         ]
        },
        "schema": {
         "fields": [
          {
           "name": "index",
           "type": "string"
          },
          {
           "name": "N",
           "type": "number"
          },
          {
           "name": "P",
           "type": "number"
          },
          {
           "name": "K",
           "type": "number"
          },
          {
           "name": "ph",
           "type": "number"
          }
         ],
         "pandas_version": "1.4.0",
         "primaryKey": [
          "index"
         ]
        }
       },
       "total_rows": 8,
       "truncation_type": null
      },
      "text/html": [
       "<div>\n",
       "<style scoped>\n",
       "    .dataframe tbody tr th:only-of-type {\n",
       "        vertical-align: middle;\n",
       "    }\n",
       "\n",
       "    .dataframe tbody tr th {\n",
       "        vertical-align: top;\n",
       "    }\n",
       "\n",
       "    .dataframe thead th {\n",
       "        text-align: right;\n",
       "    }\n",
       "</style>\n",
       "<table border=\"1\" class=\"dataframe\">\n",
       "  <thead>\n",
       "    <tr style=\"text-align: right;\">\n",
       "      <th></th>\n",
       "      <th>N</th>\n",
       "      <th>P</th>\n",
       "      <th>K</th>\n",
       "      <th>ph</th>\n",
       "    </tr>\n",
       "  </thead>\n",
       "  <tbody>\n",
       "    <tr>\n",
       "      <th>count</th>\n",
       "      <td>2200.000000</td>\n",
       "      <td>2200.000000</td>\n",
       "      <td>2200.000000</td>\n",
       "      <td>2200.000000</td>\n",
       "    </tr>\n",
       "    <tr>\n",
       "      <th>mean</th>\n",
       "      <td>50.551818</td>\n",
       "      <td>53.362727</td>\n",
       "      <td>48.149091</td>\n",
       "      <td>6.469480</td>\n",
       "    </tr>\n",
       "    <tr>\n",
       "      <th>std</th>\n",
       "      <td>36.917334</td>\n",
       "      <td>32.985883</td>\n",
       "      <td>50.647931</td>\n",
       "      <td>0.773938</td>\n",
       "    </tr>\n",
       "    <tr>\n",
       "      <th>min</th>\n",
       "      <td>0.000000</td>\n",
       "      <td>5.000000</td>\n",
       "      <td>5.000000</td>\n",
       "      <td>3.504752</td>\n",
       "    </tr>\n",
       "    <tr>\n",
       "      <th>25%</th>\n",
       "      <td>21.000000</td>\n",
       "      <td>28.000000</td>\n",
       "      <td>20.000000</td>\n",
       "      <td>5.971693</td>\n",
       "    </tr>\n",
       "    <tr>\n",
       "      <th>50%</th>\n",
       "      <td>37.000000</td>\n",
       "      <td>51.000000</td>\n",
       "      <td>32.000000</td>\n",
       "      <td>6.425045</td>\n",
       "    </tr>\n",
       "    <tr>\n",
       "      <th>75%</th>\n",
       "      <td>84.250000</td>\n",
       "      <td>68.000000</td>\n",
       "      <td>49.000000</td>\n",
       "      <td>6.923643</td>\n",
       "    </tr>\n",
       "    <tr>\n",
       "      <th>max</th>\n",
       "      <td>140.000000</td>\n",
       "      <td>145.000000</td>\n",
       "      <td>205.000000</td>\n",
       "      <td>9.935091</td>\n",
       "    </tr>\n",
       "  </tbody>\n",
       "</table>\n",
       "</div>"
      ],
      "text/plain": [
       "                 N            P            K           ph\n",
       "count  2200.000000  2200.000000  2200.000000  2200.000000\n",
       "mean     50.551818    53.362727    48.149091     6.469480\n",
       "std      36.917334    32.985883    50.647931     0.773938\n",
       "min       0.000000     5.000000     5.000000     3.504752\n",
       "25%      21.000000    28.000000    20.000000     5.971693\n",
       "50%      37.000000    51.000000    32.000000     6.425045\n",
       "75%      84.250000    68.000000    49.000000     6.923643\n",
       "max     140.000000   145.000000   205.000000     9.935091"
      ]
     },
     "execution_count": 207,
     "metadata": {
      "application/com.datacamp.data-table.v2+json": {
       "status": "success"
      }
     },
     "output_type": "execute_result"
    }
   ],
   "source": [
    "crops.info()\n",
    "crops.describe()"
   ]
  },
  {
   "cell_type": "code",
   "execution_count": 208,
   "id": "f350bc5e-9397-4144-89c1-9d7770c3ffc4",
   "metadata": {
    "executionCancelledAt": null,
    "executionTime": 55,
    "lastExecutedAt": 1759939422726,
    "lastExecutedByKernel": "ce34c446-7384-4968-ab44-33b37f674e60",
    "lastScheduledRunId": null,
    "lastSuccessfullyExecutedCode": "import matplotlib.pyplot as plt\nimport seaborn as sns\nfrom sklearn.preprocessing import LabelEncoder "
   },
   "outputs": [],
   "source": [
    "import matplotlib.pyplot as plt\n",
    "import seaborn as sns\n",
    "from sklearn.preprocessing import LabelEncoder "
   ]
  },
  {
   "cell_type": "code",
   "execution_count": 209,
   "id": "6c5761d3-c97d-4752-a1c5-2237db4097e2",
   "metadata": {
    "executionCancelledAt": null,
    "executionTime": 50,
    "lastExecutedAt": 1759939422778,
    "lastExecutedByKernel": "ce34c446-7384-4968-ab44-33b37f674e60",
    "lastScheduledRunId": null,
    "lastSuccessfullyExecutedCode": "le = LabelEncoder()\ncrop_encoded = crops.copy()"
   },
   "outputs": [],
   "source": [
    "le = LabelEncoder()\n",
    "crop_encoded = crops.copy()"
   ]
  },
  {
   "cell_type": "code",
   "execution_count": 210,
   "id": "a7b31ba9-698c-4b39-b8b9-33f8a7ab6253",
   "metadata": {
    "executionCancelledAt": null,
    "executionTime": 56,
    "lastExecutedAt": 1759939422834,
    "lastExecutedByKernel": "ce34c446-7384-4968-ab44-33b37f674e60",
    "lastScheduledRunId": null,
    "lastSuccessfullyExecutedCode": "crop_encoded[\"crop_encoded\"] = le.fit_transform(crop_encoded[\"crop\"])"
   },
   "outputs": [],
   "source": [
    "crop_encoded[\"crop_encoded\"] = le.fit_transform(crop_encoded[\"crop\"])"
   ]
  },
  {
   "cell_type": "code",
   "execution_count": 211,
   "id": "94cee9b9-bcf3-4790-9128-6faab99f9ba7",
   "metadata": {
    "executionCancelledAt": null,
    "executionTime": 351,
    "lastExecutedAt": 1759939423185,
    "lastExecutedByKernel": "ce34c446-7384-4968-ab44-33b37f674e60",
    "lastScheduledRunId": null,
    "lastSuccessfullyExecutedCode": "corr_matrix = crop_encoded.corr(numeric_only=True)\n\n# Plot heatmap\nplt.figure(figsize=(10, 6))\nsns.heatmap(corr_matrix, annot=True, cmap=\"YlGnBu\")\nplt.title(\"Correlation Heatmap with Crop Target\")\nplt.show()"
   },
   "outputs": [
    {
     "data": {
      "image/png": "[encoded data removed]",
      "text/plain": [
       "<Figure size 1000x600 with 2 Axes>"
      ]
     },
     "metadata": {
      "image/png": {
       "height": 526,
       "width": 763
      }
     },
     "output_type": "display_data"
    }
   ],
   "source": [
    "corr_matrix = crop_encoded.corr(numeric_only=True)\n",
    "\n",
    "# Plot heatmap\n",
    "plt.figure(figsize=(10, 6))\n",
    "sns.heatmap(corr_matrix, annot=True, cmap=\"YlGnBu\")\n",
    "plt.title(\"Correlation Heatmap with Crop Target\")\n",
    "plt.show()"
   ]
  },
  {
   "cell_type": "markdown",
   "id": "fad4a5a0",
   "metadata": {},
   "source": [
    "May be K or P"
   ]
  },
  {
   "cell_type": "code",
   "execution_count": 212,
   "id": "492f7446-c2e4-4a10-a67a-972ae2ddcc78",
   "metadata": {
    "executionCancelledAt": null,
    "executionTime": 53,
    "lastExecutedAt": 1759939423238,
    "lastExecutedByKernel": "ce34c446-7384-4968-ab44-33b37f674e60",
    "lastScheduledRunId": null,
    "lastSuccessfullyExecutedCode": "from sklearn.linear_model import LogisticRegression\nfrom sklearn.ensemble import RandomForestClassifier\nfrom sklearn.tree import DecisionTreeClassifier \n\nlogreg = LogisticRegression()\nDTree = DecisionTreeClassifier(random_state=42)\nRForest = RandomForestClassifier(random_state=42)"
   },
   "outputs": [],
   "source": [
    "from sklearn.linear_model import LogisticRegression\n",
    "from sklearn.ensemble import RandomForestClassifier\n",
    "from sklearn.tree import DecisionTreeClassifier \n",
    "\n",
    "logreg = LogisticRegression()\n",
    "DTree = DecisionTreeClassifier(random_state=42)\n",
    "RForest = RandomForestClassifier(random_state=42)"
   ]
  },
  {
   "cell_type": "code",
   "execution_count": 213,
   "id": "7fb7ee85-9919-44bb-923a-c5a6fe0ce12a",
   "metadata": {
    "executionCancelledAt": null,
    "executionTime": 55,
    "lastExecutedAt": 1759939423294,
    "lastExecutedByKernel": "ce34c446-7384-4968-ab44-33b37f674e60",
    "lastScheduledRunId": null,
    "lastSuccessfullyExecutedCode": "models = {\"Logisitic_Regression\":logreg, \"Decision_Tree\":DTree, \"Random_Forest\":RForest}\nfeatures = {\"N\":\"N\",\"P\":\"P\",\"K\":\"K\",\"pH\":\"ph\"}\n"
   },
   "outputs": [],
   "source": [
    "models = {\"Logisitic_Regression\":logreg, \"Decision_Tree\":DTree, \"Random_Forest\":RForest}\n",
    "features = {\"N\":\"N\",\"P\":\"P\",\"K\":\"K\",\"pH\":\"ph\"}\n"
   ]
  },
  {
   "cell_type": "code",
   "execution_count": 214,
   "id": "9629d8da-44c7-4870-bcc2-131018cca81f",
   "metadata": {
    "executionCancelledAt": null,
    "executionTime": 47,
    "lastExecutedAt": 1759939423342,
    "lastExecutedByKernel": "ce34c446-7384-4968-ab44-33b37f674e60",
    "lastScheduledRunId": null,
    "lastSuccessfullyExecutedCode": "from sklearn.model_selection import train_test_split\nfrom sklearn.metrics import accuracy_score\nfrom sklearn.metrics import f1_score"
   },
   "outputs": [],
   "source": [
    "from sklearn.model_selection import train_test_split\n",
    "from sklearn.metrics import accuracy_score\n",
    "from sklearn.metrics import f1_score"
   ]
  },
  {
   "cell_type": "code",
   "execution_count": 216,
   "id": "3cb6b8c4-596c-42c6-b071-d81903fc2dbd",
   "metadata": {
    "executionCancelledAt": null,
    "executionTime": 5280,
    "lastExecutedAt": 1759939428676,
    "lastExecutedByKernel": "ce34c446-7384-4968-ab44-33b37f674e60",
    "lastScheduledRunId": null,
    "lastSuccessfullyExecutedCode": "best_score = 0\nbest_model = None\nbest_feature = None\nbest_f1 = None\n\nZ = crop_encoded.drop([\"crop\",\"crop_encoded\"],axis =1)\ny= crop_encoded[\"crop_encoded\"]\n\nfor model in models.values():\n    for feature in features.values() :\n        X = Z[[feature]]\n        X_train, X_test, y_train, y_test = train_test_split(X, y, test_size=0.2, random_state=42)\n        model.fit(X_train,y_train)\n        ypred = model.predict(X_test)\n        print(f'''\n    ======================================================\n    This model is {model}\n    Its accuracy score is :{accuracy_score(ypred,y_test)}\n    Its F1 score is : {f1_score(y_test, y_pred, average=\"weighted\")}]\n    This feature is : {feature}\n    =======================================================''')\n        \n        if accuracy_score(ypred,y_test) > best_score :\n            best_score = accuracy_score(ypred,y_test)\n            best_model = next((k for k, v in models.items() if v == model), None)\n            best_feature = key = next((k for k, v in features.items() if v == feature), None)\n            best_f1 = f1_score(y_test, y_pred, average=\"weighted\")\n\n        \n\n    \n\nbest_predictive_feature = {best_feature: best_f1}\n\nprint(best_predictive_feature)    \n",
    "outputsMetadata": {
     "0": {
      "height": 580,
      "type": "stream"
     }
    }
   },
   "outputs": [
    {
     "name": "stdout",
     "output_type": "stream",
     "text": [
      "\n",
      "    ======================================================\n",
      "    This model is LogisticRegression()\n",
      "    Its accuracy score is :0.13863636363636364\n",
      "    Its F1 score is : 0.13933118415602647]\n",
      "    This feature is : N\n",
      "    =======================================================\n",
      "\n",
      "    ======================================================\n",
      "    This model is LogisticRegression()\n",
      "    Its accuracy score is :0.20227272727272727\n",
      "    Its F1 score is : 0.13933118415602647]\n",
      "    This feature is : P\n",
      "    =======================================================\n",
      "\n",
      "    ======================================================\n",
      "    This model is LogisticRegression()\n",
      "    Its accuracy score is :0.2863636363636364\n",
      "    Its F1 score is : 0.13933118415602647]\n",
      "    This feature is : K\n",
      "    =======================================================\n",
      "\n",
      "    ======================================================\n",
      "    This model is LogisticRegression()\n",
      "    Its accuracy score is :0.09772727272727273\n",
      "    Its F1 score is : 0.13933118415602647]\n",
      "    This feature is : ph\n",
      "    =======================================================\n",
      "\n",
      "    ======================================================\n",
      "    This model is DecisionTreeClassifier(random_state=42)\n",
      "    Its accuracy score is :0.14545454545454545\n",
      "    Its F1 score is : 0.13933118415602647]\n",
      "    This feature is : N\n",
      "    =======================================================\n",
      "\n",
      "    ======================================================\n",
      "    This model is DecisionTreeClassifier(random_state=42)\n",
      "    Its accuracy score is :0.20681818181818182\n",
      "    Its F1 score is : 0.13933118415602647]\n",
      "    This feature is : P\n",
      "    =======================================================\n",
      "\n",
      "    ======================================================\n",
      "    This model is DecisionTreeClassifier(random_state=42)\n",
      "    Its accuracy score is :0.32272727272727275\n",
      "    Its F1 score is : 0.13933118415602647]\n",
      "    This feature is : K\n",
      "    =======================================================\n",
      "\n",
      "    ======================================================\n",
      "    This model is DecisionTreeClassifier(random_state=42)\n",
      "    Its accuracy score is :0.13863636363636364\n",
      "    Its F1 score is : 0.13933118415602647]\n",
      "    This feature is : ph\n",
      "    =======================================================\n",
      "\n",
      "    ======================================================\n",
      "    This model is RandomForestClassifier(random_state=42)\n",
      "    Its accuracy score is :0.14772727272727273\n",
      "    Its F1 score is : 0.13933118415602647]\n",
      "    This feature is : N\n",
      "    =======================================================\n",
      "\n",
      "    ======================================================\n",
      "    This model is RandomForestClassifier(random_state=42)\n",
      "    Its accuracy score is :0.20909090909090908\n",
      "    Its F1 score is : 0.13933118415602647]\n",
      "    This feature is : P\n",
      "    =======================================================\n",
      "\n",
      "    ======================================================\n",
      "    This model is RandomForestClassifier(random_state=42)\n",
      "    Its accuracy score is :0.3090909090909091\n",
      "    Its F1 score is : 0.13933118415602647]\n",
      "    This feature is : K\n",
      "    =======================================================\n",
      "\n",
      "    ======================================================\n",
      "    This model is RandomForestClassifier(random_state=42)\n",
      "    Its accuracy score is :0.13863636363636364\n",
      "    Its F1 score is : 0.13933118415602647]\n",
      "    This feature is : ph\n",
      "    =======================================================\n",
      "{'K': 0.13933118415602647}\n"
     ]
    }
   ],
   "source": [
    "best_score = 0\n",
    "best_model = None\n",
    "best_feature = None\n",
    "best_f1 = None\n",
    "\n",
    "Z = crop_encoded.drop([\"crop\",\"crop_encoded\"],axis =1)\n",
    "y= crop_encoded[\"crop_encoded\"]\n",
    "\n",
    "for model in models.values():\n",
    "    for feature in features.values() :\n",
    "        X = Z[[feature]]\n",
    "        X_train, X_test, y_train, y_test = train_test_split(X, y, test_size=0.2, random_state=42)\n",
    "        model.fit(X_train,y_train)\n",
    "        ypred = model.predict(X_test)\n",
    "        print(f'''\n",
    "    ======================================================\n",
    "    This model is {model}\n",
    "    Its accuracy score is :{accuracy_score(ypred,y_test)}\n",
    "    Its F1 score is : {f1_score(y_test, y_pred, average=\"weighted\")}]\n",
    "    This feature is : {feature}\n",
    "    =======================================================''')\n",
    "        \n",
    "        if accuracy_score(ypred,y_test) > best_score :\n",
    "            best_score = accuracy_score(ypred,y_test)\n",
    "            best_model = next((k for k, v in models.items() if v == model), None)\n",
    "            best_feature = key = next((k for k, v in features.items() if v == feature), None)\n",
    "            best_f1 = f1_score(y_test, y_pred, average=\"weighted\")\n",
    "\n",
    "        \n",
    "\n",
    "    \n"
   ]
  },
  {
   "cell_type": "code",
   "execution_count": 218,
   "id": "72f54ab8-361d-4a39-9fca-0ce05f0f33bd",
   "metadata": {
    "executionCancelledAt": null,
    "executionTime": null,
    "lastExecutedAt": null,
    "lastExecutedByKernel": null,
    "lastScheduledRunId": null,
    "lastSuccessfullyExecutedCode": null,
    "outputsMetadata": {
     "0": {
      "height": 38,
      "type": "stream"
     }
    }
   },
   "outputs": [
    {
     "name": "stdout",
     "output_type": "stream",
     "text": [
      "{'K': 0.13933118415602647}\n"
     ]
    }
   ],
   "source": [
    "\n",
    "best_predictive_feature = {best_feature: best_f1}\n",
    "\n",
    "print(best_predictive_feature)    \n"
   ]
  }
 ],
 "metadata": {
  "colab": {
   "name": "Welcome to DataCamp Workspaces.ipynb",
   "provenance": []
  },
  "kernelspec": {
   "display_name": "Python 3",
   "language": "python",
   "name": "python3"
  },
  "language_info": {
   "codemirror_mode": {
    "name": "ipython",
    "version": 3
   },
   "file_extension": ".py",
   "mimetype": "text/x-python",
   "name": "python",
   "nbconvert_exporter": "python",
   "pygments_lexer": "ipython3",
   "version": "3.12.0"
  }
 },
 "nbformat": 4,
 "nbformat_minor": 5
}
